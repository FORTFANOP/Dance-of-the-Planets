{
  "nbformat": 4,
  "nbformat_minor": 0,
  "metadata": {
    "colab": {
      "provenance": [],
      "collapsed_sections": [
        "53mx-syoAURG"
      ],
      "gpuType": "T4"
    },
    "kernelspec": {
      "name": "python3",
      "display_name": "Python 3"
    },
    "language_info": {
      "name": "python"
    },
    "accelerator": "GPU"
  },
  "cells": [
    {
      "cell_type": "markdown",
      "source": [
        "### Imports"
      ],
      "metadata": {
        "id": "Bh3fXpxmAbSj"
      }
    },
    {
      "cell_type": "code",
      "source": [
        "import numpy as np\n",
        "import torch\n",
        "import torch.nn as nn\n",
        "import torch.optim as optim\n",
        "from scipy.integrate import solve_ivp\n",
        "import matplotlib.pyplot as plt\n",
        "\n",
        "device = torch.device('cuda' if torch.cuda.is_available() else 'cpu')\n",
        "print(\"Using device:\", device)\n",
        "\n",
        "# CONSTANTS\n",
        "G = 6.67430e-11  # SI units\n",
        "AU = 1.496e11    # astronomical unit in meters\n",
        "Mo = 1.989e30    # solar mass in kg"
      ],
      "metadata": {
        "colab": {
          "base_uri": "https://localhost:8080/"
        },
        "id": "krXTDl2r8bXd",
        "outputId": "e7118726-498d-4b95-fc1f-70a7103d191b"
      },
      "execution_count": 6,
      "outputs": [
        {
          "output_type": "stream",
          "name": "stdout",
          "text": [
            "Using device: cuda\n"
          ]
        }
      ]
    },
    {
      "cell_type": "markdown",
      "source": [
        "### Data Generation Functions"
      ],
      "metadata": {
        "id": "j4t2e34WAfhE"
      }
    },
    {
      "cell_type": "code",
      "source": [
        "def two_body_ode(t, y, m1, m2, G):\n",
        "    x1 = y[0:2]\n",
        "    x2 = y[2:4]\n",
        "    v1 = y[4:6]\n",
        "    v2 = y[6:8]\n",
        "    r = x2 - x1\n",
        "    dist = np.linalg.norm(r)\n",
        "\n",
        "    # Safe guard against division by 0\n",
        "    if dist < 1e-5:\n",
        "        force_dir = np.zeros_like(r)\n",
        "        dist = 1e-5\n",
        "    else:\n",
        "        force_dir = r / dist\n",
        "\n",
        "    F = G * m1 * m2 / dist**2\n",
        "    a1 = F * force_dir / m1\n",
        "    a2 = -F * force_dir / m2\n",
        "\n",
        "    return np.concatenate([v1, v2, a1, a2])\n",
        "\n",
        "def datagen(m1, m2, x1, x2, v1, v2, n_days):\n",
        "    y0 = np.concatenate([x1, x2, v1, v2])\n",
        "    t_span = (0, n_days * 24 * 3600)\n",
        "    t_eval = np.linspace(*t_span, 5000)\n",
        "    sol = solve_ivp(two_body_ode, t_span, y0, t_eval=t_eval, args=(m1, m2, G), method='RK45', rtol=1e-8, atol=1e-10)\n",
        "\n",
        "    X_data = sol.t.reshape(-1, 1) # shape: (n_days,1)\n",
        "    Y_x1 = sol.y[0:2, :].T\n",
        "    Y_x2 = sol.y[2:4, :].T\n",
        "    # Y_v1 = sol.y[4:6, :].T\n",
        "    # Y_v2 = sol.y[6:8, :].T\n",
        "    Y_data = np.hstack([Y_x1, Y_x2])\n",
        "    return X_data, Y_data"
      ],
      "metadata": {
        "id": "tpU53OK98kpF"
      },
      "execution_count": 7,
      "outputs": []
    },
    {
      "cell_type": "markdown",
      "source": [
        "### PINN Model"
      ],
      "metadata": {
        "id": "En-nPk9JAkGR"
      }
    },
    {
      "cell_type": "code",
      "source": [
        "class PINN(nn.Module):\n",
        "    def __init__(self):\n",
        "        super(PINN, self).__init__()\n",
        "        self.net = nn.Sequential(\n",
        "            nn.Linear(1, 256),\n",
        "            nn.Tanh(),\n",
        "            nn.Linear(256, 256),\n",
        "            nn.Tanh(),\n",
        "            nn.Linear(256, 256),\n",
        "            nn.Tanh(),\n",
        "            nn.Linear(256, 4)\n",
        "        )\n",
        "\n",
        "    def forward(self, x):\n",
        "        return self.net(x)"
      ],
      "metadata": {
        "id": "Nnj2ZoE08o4B"
      },
      "execution_count": 8,
      "outputs": []
    },
    {
      "cell_type": "markdown",
      "source": [
        "### Loss Calculation Functions"
      ],
      "metadata": {
        "id": "4Xb8kSfGAmn5"
      }
    },
    {
      "cell_type": "code",
      "source": [
        "def L_phy(model, t, m1, m2, y_min, y_max):\n",
        "    t.requires_grad_(True)\n",
        "    pred = model(t)\n",
        "    x1 = pred[:, 0:2]\n",
        "    x2 = pred[:, 2:4]\n",
        "\n",
        "    x1_phys = x1 * (y_max[0:2] - y_min[0:2]) + y_min[0:2]\n",
        "    x2_phys = x2 * (y_max[2:4] - y_min[2:4]) + y_min[2:4]\n",
        "\n",
        "    r = x2_phys - x1_phys\n",
        "    dist = torch.norm(r, dim=1, keepdim=True).clamp(min=1.0)\n",
        "    dist3 = dist ** 3\n",
        "\n",
        "    dx = []\n",
        "    for i in range(4):\n",
        "        grad_i = torch.autograd.grad(pred[:, i], t, grad_outputs=torch.ones_like(pred[:, i]), create_graph=True)[0]\n",
        "        dx.append(grad_i)\n",
        "    dx = torch.cat(dx, dim=1)\n",
        "\n",
        "    d2x = []\n",
        "    for i in range(4):\n",
        "        grad2_i = torch.autograd.grad(dx[:, i], t, grad_outputs=torch.ones_like(dx[:, i]), create_graph=True)[0]\n",
        "        d2x.append(grad2_i)\n",
        "    d2x = torch.cat(d2x, dim=1)\n",
        "\n",
        "    a1_pred = d2x[:, 0:2]\n",
        "    a2_pred = d2x[:, 2:4]\n",
        "\n",
        "    accel1 = G * m2 * r / dist3\n",
        "    accel2 = -G * m1 * r / dist3\n",
        "\n",
        "    accel1 = torch.nan_to_num(accel1, nan=0.0, posinf=0.0, neginf=0.0)\n",
        "    accel2 = torch.nan_to_num(accel2, nan=0.0, posinf=0.0, neginf=0.0)\n",
        "\n",
        "    residual1 = a1_pred - accel1\n",
        "    residual2 = a2_pred - accel2\n",
        "    return (residual1 ** 2).mean() + (residual2 ** 2).mean()\n",
        "\n",
        "def L_data(model, t, Y_true):\n",
        "    pred = model(t)\n",
        "    return nn.MSELoss()(pred, Y_true)\n",
        "\n",
        "def L_ic(model, t_init, y_init, y_min, y_max):\n",
        "    y_init_norm = (y_init - y_min) / (y_max - y_min)\n",
        "    pred = model(t_init)\n",
        "    return nn.MSELoss()(pred, y_init_norm)\n",
        "\n",
        "def compute_loss(model, t, m1, m2, Y_true, t_init, y_init, lambda_data, lambda_phy, lambda_ic, y_min, y_max):\n",
        "    phy_loss = L_phy(model, t, m1, m2, y_min, y_max)\n",
        "    data_loss = L_data(model, t, Y_true)\n",
        "    ic_loss = L_ic(model, t_init, y_init, y_min, y_max)\n",
        "    total_loss = lambda_data * data_loss + lambda_phy * phy_loss + lambda_ic * ic_loss\n",
        "    return total_loss, data_loss, phy_loss, ic_loss"
      ],
      "metadata": {
        "id": "2FqFsLad8tfm"
      },
      "execution_count": 9,
      "outputs": []
    },
    {
      "cell_type": "markdown",
      "source": [
        "### Model Train Loop"
      ],
      "metadata": {
        "id": "zm4m6Am2AyIk"
      }
    },
    {
      "cell_type": "code",
      "source": [
        "def train(model, t_train, m1, m2, y_train, t_init, y_init, y_min, y_max, epochs=1000, lr=1e-4):\n",
        "    optimizer = optim.Adam(model.parameters(), lr=lr)\n",
        "    lambda_data = 10.0\n",
        "    # lambda_phy = 1.0\n",
        "    lambda_ic = 10.0\n",
        "\n",
        "    for epoch in range(epochs):\n",
        "        lambda_phy = 0.0 if epoch < 150 else 1e-20 * (epoch - 500) / 500\n",
        "\n",
        "        optimizer.zero_grad()\n",
        "        total_loss, mse_loss, phy_loss, ic_loss = compute_loss(\n",
        "            model, t_train, m1, m2, y_train, t_init, y_init,\n",
        "            lambda_data, lambda_phy, lambda_ic, y_min, y_max\n",
        "        )\n",
        "        # if not torch.isfinite(total_loss):\n",
        "        #     print(f\"[{epoch}] Loss exploded! Exiting.\")\n",
        "        # break\n",
        "        total_loss.backward()\n",
        "        optimizer.step()\n",
        "\n",
        "        if (epoch % 100 == 0):\n",
        "            print(f\"[{epoch}] Total: {total_loss.item():.6e} || MSE: {mse_loss.item():.6e} || PHY: {phy_loss.item():.6e} || IC: {ic_loss.item():.6e}\")"
      ],
      "metadata": {
        "id": "k2xX1zN984qB"
      },
      "execution_count": 14,
      "outputs": []
    },
    {
      "cell_type": "markdown",
      "source": [
        "## User-Input"
      ],
      "metadata": {
        "id": "yLpsrRHxALgt"
      }
    },
    {
      "cell_type": "code",
      "source": [
        "m1 = float(input(\"Mass of body 1 (in solar masses) [default=3]: \") or 3) * Mo\n",
        "m2 = float(input(\"Mass of body 2 (in solar masses) [default=1]: \") or 1) * Mo\n",
        "\n",
        "# Initial positions (in AU)\n",
        "x1 = np.array([\n",
        "    float(input(\"x1_x (AU) [default=-2]: \") or -2),\n",
        "    float(input(\"x1_y (AU) [default=0]: \") or 0)\n",
        "]) * AU\n",
        "\n",
        "x2 = np.array([\n",
        "    float(input(\"x2_x (AU) [default=3]: \") or 3),\n",
        "    float(input(\"x2_y (AU) [default=0]: \") or 0)\n",
        "]) * AU\n",
        "\n",
        "# Initial vel (in AU/yr)\n",
        "v1 = np.array([\n",
        "    float(input(\"v1_x (AU/year) [default=0]: \") or 0),\n",
        "    float(input(\"v1_y (AU/year) [default=0.632]: \") or 0.632)\n",
        "]) * (AU / 31557600)\n",
        "\n",
        "v2 = np.array([\n",
        "    float(input(\"v2_x (AU/year) [default=0]: \") or 0),\n",
        "    float(input(\"v2_y (AU/year) [default=-1.896]: \") or -1.896)\n",
        "]) * (AU / 31557600)\n",
        "\n",
        "# Sim time\n",
        "n_days = int(input(\"Number of simulation days [default=300]: \") or 300)\n",
        "\n",
        "\n",
        "print(f\"m1 = {m1:.2e} kg, m2 = {m2:.2e} kg\")\n",
        "print(f\"x1 = {x1}, x2 = {x2}\")\n",
        "print(f\"v1 = {v1}, v2 = {v2}\")\n",
        "print(f\"Simulation duration: {n_days} days\\n\")"
      ],
      "metadata": {
        "colab": {
          "base_uri": "https://localhost:8080/"
        },
        "id": "907QcqAM8_CJ",
        "outputId": "f952d222-ae72-4bc4-ff30-48bc4e5bef9e"
      },
      "execution_count": 20,
      "outputs": [
        {
          "output_type": "stream",
          "name": "stdout",
          "text": [
            "Mass of body 1 (in solar masses) [default=3]: 5\n",
            "Mass of body 2 (in solar masses) [default=1]: 2\n",
            "x1_x (AU) [default=-2]: -3.5\n",
            "x1_y (AU) [default=0]: 0.5\n",
            "x2_x (AU) [default=3]: 2\n",
            "x2_y (AU) [default=0]: -3\n",
            "v1_x (AU/year) [default=0]: 0.5\n",
            "v1_y (AU/year) [default=0.632]: 0.6\n",
            "v2_x (AU/year) [default=0]: -1\n",
            "v2_y (AU/year) [default=-1.896]: -0.5\n",
            "Number of simulation days [default=300]: 300\n",
            "m1 = 9.94e+30 kg, m2 = 3.98e+30 kg\n",
            "x1 = [-5.236e+11  7.480e+10], x2 = [ 2.992e+11 -4.488e+11]\n",
            "v1 = [2370.26896849 2844.32276219], v2 = [-4740.53793698 -2370.26896849]\n",
            "Simulation duration: 300 days\n",
            "\n"
          ]
        }
      ]
    },
    {
      "cell_type": "markdown",
      "source": [
        "### Training"
      ],
      "metadata": {
        "id": "Wo3PtimIARtb"
      }
    },
    {
      "cell_type": "code",
      "execution_count": 21,
      "metadata": {
        "colab": {
          "base_uri": "https://localhost:8080/"
        },
        "id": "Hbz7cuzN7Sy-",
        "outputId": "4be6464a-3953-4cfa-c6a0-33611527c6e8"
      },
      "outputs": [
        {
          "output_type": "stream",
          "name": "stdout",
          "text": [
            "[0] Total: 6.184640e+00 | MSE: 3.708339e-01 | PHY: 3.198185e-03 | IC: 2.476301e-01\n",
            "[100] Total: 3.825504e-01 | MSE: 3.498059e-02 | PHY: 3.902934e-01 | IC: 3.274453e-03\n",
            "[200] Total: 3.267719e-01 | MSE: 2.990906e-02 | PHY: 7.075787e-01 | IC: 2.768122e-03\n",
            "[300] Total: 1.707855e-01 | MSE: 1.582763e-02 | PHY: 3.647352e+00 | IC: 1.250921e-03\n",
            "[400] Total: 2.012868e-02 | MSE: 1.984656e-03 | PHY: 1.818043e+01 | IC: 2.821258e-05\n"
          ]
        }
      ],
      "source": [
        "# m1 = 3 * Mo\n",
        "# m2 = 1 * Mo\n",
        "# x1 = np.array([-2 * AU, 0])\n",
        "# x2 = np.array([3 * AU, 0])\n",
        "# v1 = np.array([0, 0.632 * (AU / 31557600)])\n",
        "# v2 = np.array([0, -1.896 * (AU / 31557600)])\n",
        "# n_days = 300\n",
        "\n",
        "X_data, Y_data = datagen(m1, m2, x1, x2, v1, v2, n_days)\n",
        "t_min = X_data.min()\n",
        "t_max = X_data.max()\n",
        "X_data_norm = (X_data - t_min) / (t_max - t_min)\n",
        "\n",
        "y_min = Y_data.min(axis=0)\n",
        "y_max = Y_data.max(axis=0)\n",
        "Y_data_norm = (Y_data - y_min) / (y_max - y_min)\n",
        "\n",
        "# Convert to tensors on the correct device\n",
        "t_train = torch.tensor(X_data_norm, dtype=torch.float32, device=device).reshape(-1, 1).requires_grad_(True)\n",
        "y_train = torch.tensor(Y_data_norm, dtype=torch.float32, device=device)\n",
        "t_init = t_train[0:1].clone().detach().requires_grad_(True)\n",
        "y_init = torch.tensor(Y_data[0:1], dtype=torch.float32, device=device)\n",
        "y_min = torch.tensor(y_min, dtype=torch.float32, device=device)\n",
        "y_max = torch.tensor(y_max, dtype=torch.float32, device=device)\n",
        "\n",
        "model = PINN().to(device)\n",
        "train(model, t_train, m1, m2, y_train, t_init, y_init, y_min, y_max, epochs=500)\n"
      ]
    },
    {
      "cell_type": "markdown",
      "source": [
        "### Visuals"
      ],
      "metadata": {
        "id": "53mx-syoAURG"
      }
    },
    {
      "cell_type": "code",
      "source": [
        "t_test = np.linspace(t_min, t_max, 5000).reshape(-1, 1)\n",
        "t_test_norm = (t_test - t_min) / (t_max - t_min)\n",
        "\n",
        "t_tensor = torch.tensor(t_test_norm, dtype=torch.float32, device=device)\n",
        "\n",
        "model.eval()\n",
        "with torch.no_grad():\n",
        "    y_pred_norm = model(t_tensor)\n",
        "    y_pred = y_pred_norm * (y_max - y_min) + y_min  # unnormalize to physical units\n",
        "    y_pred = y_pred.cpu().numpy()  # move to CPU for plotting\n",
        "\n",
        "x1_pred = y_pred[:, 0:2]\n",
        "x2_pred = y_pred[:, 2:4]\n",
        "\n",
        "x1_true = Y_data[:, 0:2]\n",
        "x2_true = Y_data[:, 2:4]\n",
        "\n",
        "plt.figure(figsize=(8, 6))\n",
        "plt.plot(x1_true[:, 0], x1_true[:, 1], 'b-', label='True x1')\n",
        "plt.plot(x2_true[:, 0], x2_true[:, 1], 'g-', label='True x2')\n",
        "\n",
        "plt.plot(x1_pred[:, 0], x1_pred[:, 1], 'r--', label='Pred x1')\n",
        "plt.plot(x2_pred[:, 0], x2_pred[:, 1], 'orange', linestyle='--', label='Pred x2')\n",
        "\n",
        "plt.scatter(x1_true[0, 0], x1_true[0, 1], color='blue', s=100, marker='o', label='Start True x1')\n",
        "plt.scatter(x2_true[0, 0], x2_true[0, 1], color='green', s=100, marker='o', label='Start True x2')\n",
        "plt.scatter(x1_pred[0, 0], x1_pred[0, 1], color='red', s=100, marker='x', label='Start Pred x1')\n",
        "plt.scatter(x2_pred[0, 0], x2_pred[0, 1], color='orange', s=100, marker='x', label='Start Pred x2')\n",
        "\n",
        "plt.xlabel(\"x [AU or m]\")\n",
        "plt.ylabel(\"y [AU or m]\")\n",
        "plt.title(\"Predicted vs Actual Orbits\")\n",
        "plt.axis(\"equal\")\n",
        "plt.grid(True)\n",
        "plt.legend()\n",
        "plt.tight_layout()\n",
        "plt.show()"
      ],
      "metadata": {
        "colab": {
          "base_uri": "https://localhost:8080/",
          "height": 607
        },
        "id": "vJwS1FS47qAE",
        "outputId": "4484d9be-8d58-41bc-cfdd-3e9d07a252ba"
      },
      "execution_count": 22,
      "outputs": [
        {
          "output_type": "display_data",
          "data": {
            "text/plain": [
              "<Figure size 800x600 with 1 Axes>"
            ],
            "image/png": "[encoded data removed]"
          },
          "metadata": {}
        }
      ]
    }
  ]
}